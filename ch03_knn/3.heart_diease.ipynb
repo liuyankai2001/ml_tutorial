{
 "cells": [
  {
   "cell_type": "code",
   "execution_count": 34,
   "metadata": {
    "collapsed": true,
    "ExecuteTime": {
     "end_time": "2025-08-03T13:48:37.529129200Z",
     "start_time": "2025-08-03T13:48:37.524128600Z"
    }
   },
   "outputs": [],
   "source": [
    "import joblib\n",
    "import pandas as pd\n",
    "from sklearn.preprocessing import StandardScaler, OneHotEncoder\n",
    "from sklearn.compose import ColumnTransformer\n",
    "from sklearn.model_selection import train_test_split\n",
    "from sklearn.neighbors import KNeighborsClassifier"
   ]
  },
  {
   "cell_type": "code",
   "execution_count": 35,
   "outputs": [
    {
     "data": {
      "text/plain": "      年龄  性别  胸痛类型  静息血压  胆固醇  空腹血糖  静息心电图结果  最大心率  运动性心绞痛  运动后的ST下降  \\\n0     52   1     0   125  212     0        1   168       0       1.0   \n1     53   1     0   140  203     1        0   155       1       3.1   \n2     70   1     0   145  174     0        1   125       1       2.6   \n3     61   1     0   148  203     0        1   161       0       0.0   \n4     62   0     0   138  294     1        1   106       0       1.9   \n...   ..  ..   ...   ...  ...   ...      ...   ...     ...       ...   \n1020  59   1     1   140  221     0        1   164       1       0.0   \n1021  60   1     0   125  258     0        0   141       1       2.8   \n1022  47   1     0   110  275     0        0   118       1       1.0   \n1023  50   0     0   110  254     0        0   159       0       0.0   \n1024  54   1     0   120  188     0        1   113       0       1.4   \n\n      峰值ST段的斜率  主血管数量  地中海贫血  是否患有心脏病  \n0            2      2      3        0  \n1            0      0      3        0  \n2            0      0      3        0  \n3            2      1      3        0  \n4            1      3      2        0  \n...        ...    ...    ...      ...  \n1020         2      0      2        1  \n1021         1      1      3        0  \n1022         1      1      2        0  \n1023         2      0      2        1  \n1024         1      1      3        0  \n\n[1025 rows x 14 columns]",
      "text/html": "<div>\n<style scoped>\n    .dataframe tbody tr th:only-of-type {\n        vertical-align: middle;\n    }\n\n    .dataframe tbody tr th {\n        vertical-align: top;\n    }\n\n    .dataframe thead th {\n        text-align: right;\n    }\n</style>\n<table border=\"1\" class=\"dataframe\">\n  <thead>\n    <tr style=\"text-align: right;\">\n      <th></th>\n      <th>年龄</th>\n      <th>性别</th>\n      <th>胸痛类型</th>\n      <th>静息血压</th>\n      <th>胆固醇</th>\n      <th>空腹血糖</th>\n      <th>静息心电图结果</th>\n      <th>最大心率</th>\n      <th>运动性心绞痛</th>\n      <th>运动后的ST下降</th>\n      <th>峰值ST段的斜率</th>\n      <th>主血管数量</th>\n      <th>地中海贫血</th>\n      <th>是否患有心脏病</th>\n    </tr>\n  </thead>\n  <tbody>\n    <tr>\n      <th>0</th>\n      <td>52</td>\n      <td>1</td>\n      <td>0</td>\n      <td>125</td>\n      <td>212</td>\n      <td>0</td>\n      <td>1</td>\n      <td>168</td>\n      <td>0</td>\n      <td>1.0</td>\n      <td>2</td>\n      <td>2</td>\n      <td>3</td>\n      <td>0</td>\n    </tr>\n    <tr>\n      <th>1</th>\n      <td>53</td>\n      <td>1</td>\n      <td>0</td>\n      <td>140</td>\n      <td>203</td>\n      <td>1</td>\n      <td>0</td>\n      <td>155</td>\n      <td>1</td>\n      <td>3.1</td>\n      <td>0</td>\n      <td>0</td>\n      <td>3</td>\n      <td>0</td>\n    </tr>\n    <tr>\n      <th>2</th>\n      <td>70</td>\n      <td>1</td>\n      <td>0</td>\n      <td>145</td>\n      <td>174</td>\n      <td>0</td>\n      <td>1</td>\n      <td>125</td>\n      <td>1</td>\n      <td>2.6</td>\n      <td>0</td>\n      <td>0</td>\n      <td>3</td>\n      <td>0</td>\n    </tr>\n    <tr>\n      <th>3</th>\n      <td>61</td>\n      <td>1</td>\n      <td>0</td>\n      <td>148</td>\n      <td>203</td>\n      <td>0</td>\n      <td>1</td>\n      <td>161</td>\n      <td>0</td>\n      <td>0.0</td>\n      <td>2</td>\n      <td>1</td>\n      <td>3</td>\n      <td>0</td>\n    </tr>\n    <tr>\n      <th>4</th>\n      <td>62</td>\n      <td>0</td>\n      <td>0</td>\n      <td>138</td>\n      <td>294</td>\n      <td>1</td>\n      <td>1</td>\n      <td>106</td>\n      <td>0</td>\n      <td>1.9</td>\n      <td>1</td>\n      <td>3</td>\n      <td>2</td>\n      <td>0</td>\n    </tr>\n    <tr>\n      <th>...</th>\n      <td>...</td>\n      <td>...</td>\n      <td>...</td>\n      <td>...</td>\n      <td>...</td>\n      <td>...</td>\n      <td>...</td>\n      <td>...</td>\n      <td>...</td>\n      <td>...</td>\n      <td>...</td>\n      <td>...</td>\n      <td>...</td>\n      <td>...</td>\n    </tr>\n    <tr>\n      <th>1020</th>\n      <td>59</td>\n      <td>1</td>\n      <td>1</td>\n      <td>140</td>\n      <td>221</td>\n      <td>0</td>\n      <td>1</td>\n      <td>164</td>\n      <td>1</td>\n      <td>0.0</td>\n      <td>2</td>\n      <td>0</td>\n      <td>2</td>\n      <td>1</td>\n    </tr>\n    <tr>\n      <th>1021</th>\n      <td>60</td>\n      <td>1</td>\n      <td>0</td>\n      <td>125</td>\n      <td>258</td>\n      <td>0</td>\n      <td>0</td>\n      <td>141</td>\n      <td>1</td>\n      <td>2.8</td>\n      <td>1</td>\n      <td>1</td>\n      <td>3</td>\n      <td>0</td>\n    </tr>\n    <tr>\n      <th>1022</th>\n      <td>47</td>\n      <td>1</td>\n      <td>0</td>\n      <td>110</td>\n      <td>275</td>\n      <td>0</td>\n      <td>0</td>\n      <td>118</td>\n      <td>1</td>\n      <td>1.0</td>\n      <td>1</td>\n      <td>1</td>\n      <td>2</td>\n      <td>0</td>\n    </tr>\n    <tr>\n      <th>1023</th>\n      <td>50</td>\n      <td>0</td>\n      <td>0</td>\n      <td>110</td>\n      <td>254</td>\n      <td>0</td>\n      <td>0</td>\n      <td>159</td>\n      <td>0</td>\n      <td>0.0</td>\n      <td>2</td>\n      <td>0</td>\n      <td>2</td>\n      <td>1</td>\n    </tr>\n    <tr>\n      <th>1024</th>\n      <td>54</td>\n      <td>1</td>\n      <td>0</td>\n      <td>120</td>\n      <td>188</td>\n      <td>0</td>\n      <td>1</td>\n      <td>113</td>\n      <td>0</td>\n      <td>1.4</td>\n      <td>1</td>\n      <td>1</td>\n      <td>3</td>\n      <td>0</td>\n    </tr>\n  </tbody>\n</table>\n<p>1025 rows × 14 columns</p>\n</div>"
     },
     "execution_count": 35,
     "metadata": {},
     "output_type": "execute_result"
    }
   ],
   "source": [
    "heart_disease = pd.read_csv(\"../data/heart_disease.csv\")\n",
    "heart_disease"
   ],
   "metadata": {
    "collapsed": false,
    "ExecuteTime": {
     "end_time": "2025-08-03T13:48:37.560057900Z",
     "start_time": "2025-08-03T13:48:37.529129200Z"
    }
   }
  },
  {
   "cell_type": "code",
   "execution_count": 36,
   "outputs": [
    {
     "data": {
      "text/plain": "      年龄  性别  胸痛类型  静息血压  胆固醇  空腹血糖  静息心电图结果  最大心率  运动性心绞痛  运动后的ST下降  \\\n0     52   1     0   125  212     0        1   168       0       1.0   \n1     53   1     0   140  203     1        0   155       1       3.1   \n2     70   1     0   145  174     0        1   125       1       2.6   \n3     61   1     0   148  203     0        1   161       0       0.0   \n4     62   0     0   138  294     1        1   106       0       1.9   \n...   ..  ..   ...   ...  ...   ...      ...   ...     ...       ...   \n1020  59   1     1   140  221     0        1   164       1       0.0   \n1021  60   1     0   125  258     0        0   141       1       2.8   \n1022  47   1     0   110  275     0        0   118       1       1.0   \n1023  50   0     0   110  254     0        0   159       0       0.0   \n1024  54   1     0   120  188     0        1   113       0       1.4   \n\n      峰值ST段的斜率  主血管数量  地中海贫血  是否患有心脏病  \n0            2      2      3        0  \n1            0      0      3        0  \n2            0      0      3        0  \n3            2      1      3        0  \n4            1      3      2        0  \n...        ...    ...    ...      ...  \n1020         2      0      2        1  \n1021         1      1      3        0  \n1022         1      1      2        0  \n1023         2      0      2        1  \n1024         1      1      3        0  \n\n[1025 rows x 14 columns]",
      "text/html": "<div>\n<style scoped>\n    .dataframe tbody tr th:only-of-type {\n        vertical-align: middle;\n    }\n\n    .dataframe tbody tr th {\n        vertical-align: top;\n    }\n\n    .dataframe thead th {\n        text-align: right;\n    }\n</style>\n<table border=\"1\" class=\"dataframe\">\n  <thead>\n    <tr style=\"text-align: right;\">\n      <th></th>\n      <th>年龄</th>\n      <th>性别</th>\n      <th>胸痛类型</th>\n      <th>静息血压</th>\n      <th>胆固醇</th>\n      <th>空腹血糖</th>\n      <th>静息心电图结果</th>\n      <th>最大心率</th>\n      <th>运动性心绞痛</th>\n      <th>运动后的ST下降</th>\n      <th>峰值ST段的斜率</th>\n      <th>主血管数量</th>\n      <th>地中海贫血</th>\n      <th>是否患有心脏病</th>\n    </tr>\n  </thead>\n  <tbody>\n    <tr>\n      <th>0</th>\n      <td>52</td>\n      <td>1</td>\n      <td>0</td>\n      <td>125</td>\n      <td>212</td>\n      <td>0</td>\n      <td>1</td>\n      <td>168</td>\n      <td>0</td>\n      <td>1.0</td>\n      <td>2</td>\n      <td>2</td>\n      <td>3</td>\n      <td>0</td>\n    </tr>\n    <tr>\n      <th>1</th>\n      <td>53</td>\n      <td>1</td>\n      <td>0</td>\n      <td>140</td>\n      <td>203</td>\n      <td>1</td>\n      <td>0</td>\n      <td>155</td>\n      <td>1</td>\n      <td>3.1</td>\n      <td>0</td>\n      <td>0</td>\n      <td>3</td>\n      <td>0</td>\n    </tr>\n    <tr>\n      <th>2</th>\n      <td>70</td>\n      <td>1</td>\n      <td>0</td>\n      <td>145</td>\n      <td>174</td>\n      <td>0</td>\n      <td>1</td>\n      <td>125</td>\n      <td>1</td>\n      <td>2.6</td>\n      <td>0</td>\n      <td>0</td>\n      <td>3</td>\n      <td>0</td>\n    </tr>\n    <tr>\n      <th>3</th>\n      <td>61</td>\n      <td>1</td>\n      <td>0</td>\n      <td>148</td>\n      <td>203</td>\n      <td>0</td>\n      <td>1</td>\n      <td>161</td>\n      <td>0</td>\n      <td>0.0</td>\n      <td>2</td>\n      <td>1</td>\n      <td>3</td>\n      <td>0</td>\n    </tr>\n    <tr>\n      <th>4</th>\n      <td>62</td>\n      <td>0</td>\n      <td>0</td>\n      <td>138</td>\n      <td>294</td>\n      <td>1</td>\n      <td>1</td>\n      <td>106</td>\n      <td>0</td>\n      <td>1.9</td>\n      <td>1</td>\n      <td>3</td>\n      <td>2</td>\n      <td>0</td>\n    </tr>\n    <tr>\n      <th>...</th>\n      <td>...</td>\n      <td>...</td>\n      <td>...</td>\n      <td>...</td>\n      <td>...</td>\n      <td>...</td>\n      <td>...</td>\n      <td>...</td>\n      <td>...</td>\n      <td>...</td>\n      <td>...</td>\n      <td>...</td>\n      <td>...</td>\n      <td>...</td>\n    </tr>\n    <tr>\n      <th>1020</th>\n      <td>59</td>\n      <td>1</td>\n      <td>1</td>\n      <td>140</td>\n      <td>221</td>\n      <td>0</td>\n      <td>1</td>\n      <td>164</td>\n      <td>1</td>\n      <td>0.0</td>\n      <td>2</td>\n      <td>0</td>\n      <td>2</td>\n      <td>1</td>\n    </tr>\n    <tr>\n      <th>1021</th>\n      <td>60</td>\n      <td>1</td>\n      <td>0</td>\n      <td>125</td>\n      <td>258</td>\n      <td>0</td>\n      <td>0</td>\n      <td>141</td>\n      <td>1</td>\n      <td>2.8</td>\n      <td>1</td>\n      <td>1</td>\n      <td>3</td>\n      <td>0</td>\n    </tr>\n    <tr>\n      <th>1022</th>\n      <td>47</td>\n      <td>1</td>\n      <td>0</td>\n      <td>110</td>\n      <td>275</td>\n      <td>0</td>\n      <td>0</td>\n      <td>118</td>\n      <td>1</td>\n      <td>1.0</td>\n      <td>1</td>\n      <td>1</td>\n      <td>2</td>\n      <td>0</td>\n    </tr>\n    <tr>\n      <th>1023</th>\n      <td>50</td>\n      <td>0</td>\n      <td>0</td>\n      <td>110</td>\n      <td>254</td>\n      <td>0</td>\n      <td>0</td>\n      <td>159</td>\n      <td>0</td>\n      <td>0.0</td>\n      <td>2</td>\n      <td>0</td>\n      <td>2</td>\n      <td>1</td>\n    </tr>\n    <tr>\n      <th>1024</th>\n      <td>54</td>\n      <td>1</td>\n      <td>0</td>\n      <td>120</td>\n      <td>188</td>\n      <td>0</td>\n      <td>1</td>\n      <td>113</td>\n      <td>0</td>\n      <td>1.4</td>\n      <td>1</td>\n      <td>1</td>\n      <td>3</td>\n      <td>0</td>\n    </tr>\n  </tbody>\n</table>\n<p>1025 rows × 14 columns</p>\n</div>"
     },
     "execution_count": 36,
     "metadata": {},
     "output_type": "execute_result"
    }
   ],
   "source": [
    "# 处理缺失值\n",
    "heart_disease.dropna(inplace=True)\n",
    "heart_disease"
   ],
   "metadata": {
    "collapsed": false,
    "ExecuteTime": {
     "end_time": "2025-08-03T13:48:37.575306700Z",
     "start_time": "2025-08-03T13:48:37.560057900Z"
    }
   }
  },
  {
   "cell_type": "code",
   "execution_count": 37,
   "outputs": [
    {
     "name": "stdout",
     "output_type": "stream",
     "text": [
      "<class 'pandas.core.frame.DataFrame'>\n",
      "RangeIndex: 1025 entries, 0 to 1024\n",
      "Data columns (total 14 columns):\n",
      " #   Column    Non-Null Count  Dtype  \n",
      "---  ------    --------------  -----  \n",
      " 0   年龄        1025 non-null   int64  \n",
      " 1   性别        1025 non-null   int64  \n",
      " 2   胸痛类型      1025 non-null   int64  \n",
      " 3   静息血压      1025 non-null   int64  \n",
      " 4   胆固醇       1025 non-null   int64  \n",
      " 5   空腹血糖      1025 non-null   int64  \n",
      " 6   静息心电图结果   1025 non-null   int64  \n",
      " 7   最大心率      1025 non-null   int64  \n",
      " 8   运动性心绞痛    1025 non-null   int64  \n",
      " 9   运动后的ST下降  1025 non-null   float64\n",
      " 10  峰值ST段的斜率  1025 non-null   int64  \n",
      " 11  主血管数量     1025 non-null   int64  \n",
      " 12  地中海贫血     1025 non-null   int64  \n",
      " 13  是否患有心脏病   1025 non-null   int64  \n",
      "dtypes: float64(1), int64(13)\n",
      "memory usage: 112.2 KB\n"
     ]
    }
   ],
   "source": [
    "heart_disease.info()"
   ],
   "metadata": {
    "collapsed": false,
    "ExecuteTime": {
     "end_time": "2025-08-03T13:48:37.603801100Z",
     "start_time": "2025-08-03T13:48:37.576307100Z"
    }
   }
  },
  {
   "cell_type": "code",
   "execution_count": 38,
   "outputs": [],
   "source": [
    "X = heart_disease.drop(\"是否患有心脏病\",axis=1)\n",
    "y = heart_disease['是否患有心脏病']"
   ],
   "metadata": {
    "collapsed": false,
    "ExecuteTime": {
     "end_time": "2025-08-03T13:48:37.652349400Z",
     "start_time": "2025-08-03T13:48:37.590802200Z"
    }
   }
  },
  {
   "cell_type": "code",
   "execution_count": 39,
   "outputs": [],
   "source": [
    "x_train,x_test,y_train,y_test = train_test_split(X,y,test_size=0.3,random_state=100)"
   ],
   "metadata": {
    "collapsed": false,
    "ExecuteTime": {
     "end_time": "2025-08-03T13:48:37.679483900Z",
     "start_time": "2025-08-03T13:48:37.606801600Z"
    }
   }
  },
  {
   "cell_type": "code",
   "execution_count": 40,
   "outputs": [],
   "source": [
    "# 数值型特征\n",
    "numerical_features = [\"年龄\", \"静息血压\", \"胆固醇\", \"最大心率\", \"运动后的ST下降\", \"主血管数量\"]\n",
    "# 类别型特征\n",
    "categorical_features = [\"胸痛类型\", \"静息心电图结果\", \"峰值ST段的斜率\", \"地中海贫血\"]\n",
    "# 二元特征\n",
    "binary_features = [\"性别\", \"空腹血糖\", \"运动性心绞痛\"]"
   ],
   "metadata": {
    "collapsed": false,
    "ExecuteTime": {
     "end_time": "2025-08-03T13:48:37.695483500Z",
     "start_time": "2025-08-03T13:48:37.623803500Z"
    }
   }
  },
  {
   "cell_type": "code",
   "execution_count": 41,
   "outputs": [],
   "source": [
    "preprocessor = ColumnTransformer(\n",
    "    transformers=[\n",
    "        ('num',StandardScaler(),numerical_features),\n",
    "        ('cat',OneHotEncoder(drop='first'),categorical_features),\n",
    "        ('binary','passthrough',binary_features)\n",
    "    ]\n",
    ")\n",
    "x_train = preprocessor.fit_transform(x_train)\n",
    "x_test = preprocessor.transform(x_test)"
   ],
   "metadata": {
    "collapsed": false,
    "ExecuteTime": {
     "end_time": "2025-08-03T13:48:37.696483800Z",
     "start_time": "2025-08-03T13:48:37.652349400Z"
    }
   }
  },
  {
   "cell_type": "code",
   "execution_count": 42,
   "outputs": [
    {
     "data": {
      "text/plain": "0.9253246753246753"
     },
     "execution_count": 42,
     "metadata": {},
     "output_type": "execute_result"
    }
   ],
   "source": [
    "knn = KNeighborsClassifier(n_neighbors=2)\n",
    "knn.fit(x_train,y_train)\n",
    "knn.score(x_test,y_test)"
   ],
   "metadata": {
    "collapsed": false,
    "ExecuteTime": {
     "end_time": "2025-08-03T13:48:37.696483800Z",
     "start_time": "2025-08-03T13:48:37.654351600Z"
    }
   }
  },
  {
   "cell_type": "code",
   "execution_count": 43,
   "outputs": [
    {
     "data": {
      "text/plain": "['knn_heart_disease']"
     },
     "execution_count": 43,
     "metadata": {},
     "output_type": "execute_result"
    }
   ],
   "source": [
    "joblib.dump(knn, \"knn_heart_disease\")"
   ],
   "metadata": {
    "collapsed": false,
    "ExecuteTime": {
     "end_time": "2025-08-03T13:48:48.229589300Z",
     "start_time": "2025-08-03T13:48:48.175811600Z"
    }
   }
  },
  {
   "cell_type": "code",
   "execution_count": 44,
   "outputs": [
    {
     "name": "stdout",
     "output_type": "stream",
     "text": [
      "0 [0]\n"
     ]
    }
   ],
   "source": [
    "knn_loaded = joblib.load('knn_heart_disease')\n",
    "# 预测\n",
    "y_pred = knn_loaded.predict(x_test[10:11])\n",
    "# 打印真实值与预测值\n",
    "print(y_test.iloc[10], y_pred)"
   ],
   "metadata": {
    "collapsed": false,
    "ExecuteTime": {
     "end_time": "2025-08-03T13:49:35.675923500Z",
     "start_time": "2025-08-03T13:49:35.661927Z"
    }
   }
  },
  {
   "cell_type": "markdown",
   "source": [
    "# 网格搜索"
   ],
   "metadata": {
    "collapsed": false
   }
  },
  {
   "cell_type": "code",
   "execution_count": 45,
   "outputs": [
    {
     "name": "stdout",
     "output_type": "stream",
     "text": [
      "   mean_fit_time  std_fit_time  mean_score_time  std_score_time  \\\n",
      "0       0.001001      0.000896         0.003844        0.000766   \n",
      "1       0.000702      0.000459         0.003098        0.000303   \n",
      "2       0.000700      0.000458         0.003399        0.000495   \n",
      "3       0.000804      0.000402         0.003028        0.000380   \n",
      "4       0.000654      0.000453         0.003046        0.000126   \n",
      "5       0.000503      0.000503         0.003136        0.000532   \n",
      "6       0.000704      0.000461         0.002821        0.000354   \n",
      "7       0.000575      0.000476         0.005135        0.004324   \n",
      "8       0.000905      0.000302         0.005397        0.004219   \n",
      "9       0.000704      0.000461         0.003370        0.000438   \n",
      "\n",
      "   param_n_neighbors               params  split0_test_score  \\\n",
      "0                  1   {'n_neighbors': 1}           0.986111   \n",
      "1                  2   {'n_neighbors': 2}           0.930556   \n",
      "2                  3   {'n_neighbors': 3}           0.888889   \n",
      "3                  4   {'n_neighbors': 4}           0.861111   \n",
      "4                  5   {'n_neighbors': 5}           0.847222   \n",
      "5                  6   {'n_neighbors': 6}           0.847222   \n",
      "6                  7   {'n_neighbors': 7}           0.819444   \n",
      "7                  8   {'n_neighbors': 8}           0.805556   \n",
      "8                  9   {'n_neighbors': 9}           0.805556   \n",
      "9                 10  {'n_neighbors': 10}           0.777778   \n",
      "\n",
      "   split1_test_score  split2_test_score  split3_test_score  split4_test_score  \\\n",
      "0           0.944444           0.972222           0.958333           1.000000   \n",
      "1           0.916667           0.888889           0.930556           0.944444   \n",
      "2           0.847222           0.902778           0.916667           0.916667   \n",
      "3           0.805556           0.888889           0.875000           0.833333   \n",
      "4           0.777778           0.875000           0.861111           0.861111   \n",
      "5           0.805556           0.861111           0.888889           0.875000   \n",
      "6           0.805556           0.861111           0.875000           0.861111   \n",
      "7           0.791667           0.847222           0.847222           0.833333   \n",
      "8           0.777778           0.833333           0.833333           0.833333   \n",
      "9           0.819444           0.861111           0.875000           0.805556   \n",
      "\n",
      "   split5_test_score  split6_test_score  split7_test_score  split8_test_score  \\\n",
      "0           0.986111           0.930556           0.971831           0.985915   \n",
      "1           0.972222           0.944444           0.901408           0.915493   \n",
      "2           0.958333           0.888889           0.887324           0.887324   \n",
      "3           0.930556           0.861111           0.873239           0.845070   \n",
      "4           0.875000           0.833333           0.830986           0.830986   \n",
      "5           0.888889           0.819444           0.845070           0.845070   \n",
      "6           0.888889           0.819444           0.887324           0.859155   \n",
      "7           0.861111           0.819444           0.887324           0.830986   \n",
      "8           0.888889           0.861111           0.873239           0.816901   \n",
      "9           0.861111           0.819444           0.830986           0.802817   \n",
      "\n",
      "   split9_test_score  mean_test_score  std_test_score  rank_test_score  \n",
      "0           0.971831         0.970736        0.020059                1  \n",
      "1           0.929577         0.927426        0.022428                2  \n",
      "2           0.887324         0.898142        0.027287                3  \n",
      "3           0.887324         0.866119        0.032382                4  \n",
      "4           0.859155         0.845168        0.027517                7  \n",
      "5           0.859155         0.853541        0.025878                5  \n",
      "6           0.845070         0.852210        0.027711                6  \n",
      "7           0.845070         0.836894        0.026057                8  \n",
      "8           0.802817         0.832629        0.032411                9  \n",
      "9           0.788732         0.824198        0.031007               10  \n"
     ]
    }
   ],
   "source": [
    "from sklearn.model_selection import GridSearchCV\n",
    "knn = KNeighborsClassifier()\n",
    "param_grid = {'n_neighbors':[1,2,3,4,5,6,7,8,9,10]}\n",
    "knn = GridSearchCV(estimator=knn,param_grid=param_grid,cv=10)\n",
    "knn.fit(x_train, y_train)\n",
    "print(pd.DataFrame(knn.cv_results_))"
   ],
   "metadata": {
    "collapsed": false,
    "ExecuteTime": {
     "end_time": "2025-08-03T13:55:22.669981Z",
     "start_time": "2025-08-03T13:55:22.174422100Z"
    }
   }
  },
  {
   "cell_type": "code",
   "execution_count": 46,
   "outputs": [
    {
     "name": "stdout",
     "output_type": "stream",
     "text": [
      "KNeighborsClassifier(n_neighbors=1)\n",
      "0.9707355242566511\n"
     ]
    }
   ],
   "source": [
    "print(knn.best_estimator_) # 最佳模型\n",
    "print(knn.best_score_) # 最佳得分"
   ],
   "metadata": {
    "collapsed": false,
    "ExecuteTime": {
     "end_time": "2025-08-03T13:57:36.575432500Z",
     "start_time": "2025-08-03T13:57:36.564429600Z"
    }
   }
  },
  {
   "cell_type": "code",
   "execution_count": 47,
   "outputs": [
    {
     "name": "stdout",
     "output_type": "stream",
     "text": [
      "0.9902597402597403\n"
     ]
    }
   ],
   "source": [
    "# 使用最佳模型进行评估\n",
    "knn = knn.best_estimator_\n",
    "print(knn.score(x_test, y_test))"
   ],
   "metadata": {
    "collapsed": false,
    "ExecuteTime": {
     "end_time": "2025-08-03T13:57:50.469737Z",
     "start_time": "2025-08-03T13:57:50.424208500Z"
    }
   }
  },
  {
   "cell_type": "code",
   "execution_count": null,
   "outputs": [],
   "source": [],
   "metadata": {
    "collapsed": false
   }
  }
 ],
 "metadata": {
  "kernelspec": {
   "display_name": "Python 3",
   "language": "python",
   "name": "python3"
  },
  "language_info": {
   "codemirror_mode": {
    "name": "ipython",
    "version": 2
   },
   "file_extension": ".py",
   "mimetype": "text/x-python",
   "name": "python",
   "nbconvert_exporter": "python",
   "pygments_lexer": "ipython2",
   "version": "2.7.6"
  }
 },
 "nbformat": 4,
 "nbformat_minor": 0
}
